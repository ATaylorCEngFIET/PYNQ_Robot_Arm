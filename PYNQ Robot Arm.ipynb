{
 "cells": [
  {
   "cell_type": "code",
   "execution_count": 1,
   "metadata": {},
   "outputs": [],
   "source": [
    "import ipywidgets as widgets\n",
    "import time\n",
    "import asyncio"
   ]
  },
  {
   "cell_type": "code",
   "execution_count": 2,
   "metadata": {},
   "outputs": [],
   "source": [
    "from IPython.display import display"
   ]
  },
  {
   "cell_type": "code",
   "execution_count": 3,
   "metadata": {},
   "outputs": [
    {
     "data": {
      "application/javascript": [
       "\n",
       "require(['notebook/js/codecell'], function(codecell) {\n",
       "  codecell.CodeCell.options_default.highlight_modes[\n",
       "      'magic_text/x-csrc'] = {'reg':[/^%%microblaze/]};\n",
       "  Jupyter.notebook.events.one('kernel_ready.Kernel', function(){\n",
       "      Jupyter.notebook.get_cells().map(function(cell){\n",
       "          if (cell.cell_type == 'code'){ cell.auto_highlight(); } }) ;\n",
       "  });\n",
       "});\n"
      ]
     },
     "metadata": {},
     "output_type": "display_data"
    }
   ],
   "source": [
    "from pynq.overlays.arm_pynq import arm_pynqOverlay"
   ]
  },
  {
   "cell_type": "code",
   "execution_count": 4,
   "metadata": {},
   "outputs": [],
   "source": [
    "import pynq.lib as lib\n",
    "import cffi\n",
    "_ffi = cffi.FFI()"
   ]
  },
  {
   "cell_type": "code",
   "execution_count": 5,
   "metadata": {},
   "outputs": [],
   "source": [
    "overlay = arm_pynqOverlay('arm_pynq.bit')"
   ]
  },
  {
   "cell_type": "code",
   "execution_count": 6,
   "metadata": {},
   "outputs": [],
   "source": [
    "iic  = lib.AxiIIC(overlay.ip_dict['axi_iic_0'])"
   ]
  },
  {
   "cell_type": "code",
   "execution_count": 7,
   "metadata": {},
   "outputs": [],
   "source": [
    "tx_buf = _ffi.new(\"unsigned char [32]\")\n",
    "rx_buf = _ffi.new(\"unsigned char [32]\")"
   ]
  },
  {
   "cell_type": "code",
   "execution_count": 8,
   "metadata": {},
   "outputs": [
    {
     "data": {
      "text/plain": [
       "2"
      ]
     },
     "execution_count": 8,
     "metadata": {},
     "output_type": "execute_result"
    }
   ],
   "source": [
    "tx_buf[0] = 0xfe\n",
    "tx_buf[1] = 0x64\n",
    "iic.send(0x40,tx_buf,2,0)"
   ]
  },
  {
   "cell_type": "code",
   "execution_count": 9,
   "metadata": {},
   "outputs": [
    {
     "data": {
      "text/plain": [
       "2"
      ]
     },
     "execution_count": 9,
     "metadata": {},
     "output_type": "execute_result"
    }
   ],
   "source": [
    "tx_buf[0] = 0x00\n",
    "tx_buf[1] = 0x80\n",
    "iic.send(0x40,tx_buf,2,0)"
   ]
  },
  {
   "cell_type": "code",
   "execution_count": 10,
   "metadata": {},
   "outputs": [
    {
     "data": {
      "text/plain": [
       "1"
      ]
     },
     "execution_count": 10,
     "metadata": {},
     "output_type": "execute_result"
    }
   ],
   "source": [
    "tx_buf[0] = 0x00\n",
    "iic.send(0x40,tx_buf,1,1)\n",
    "iic.receive(0x40,rx_buf,1,0)\n"
   ]
  },
  {
   "cell_type": "code",
   "execution_count": 11,
   "metadata": {},
   "outputs": [
    {
     "data": {
      "text/plain": [
       "0"
      ]
     },
     "execution_count": 11,
     "metadata": {},
     "output_type": "execute_result"
    }
   ],
   "source": [
    "rx_buf[0]"
   ]
  },
  {
   "cell_type": "code",
   "execution_count": 12,
   "metadata": {},
   "outputs": [
    {
     "data": {
      "text/plain": [
       "1"
      ]
     },
     "execution_count": 12,
     "metadata": {},
     "output_type": "execute_result"
    }
   ],
   "source": [
    "tx_buf[0] = 0xfe\n",
    "iic.send(0x40,tx_buf,1,1)\n",
    "iic.receive(0x40,rx_buf,1,0)\n"
   ]
  },
  {
   "cell_type": "code",
   "execution_count": 13,
   "metadata": {},
   "outputs": [
    {
     "data": {
      "text/plain": [
       "100"
      ]
     },
     "execution_count": 13,
     "metadata": {},
     "output_type": "execute_result"
    }
   ],
   "source": [
    "rx_buf[0]"
   ]
  },
  {
   "cell_type": "code",
   "execution_count": 14,
   "metadata": {},
   "outputs": [
    {
     "data": {
      "text/plain": [
       "2"
      ]
     },
     "execution_count": 14,
     "metadata": {},
     "output_type": "execute_result"
    }
   ],
   "source": [
    "#set up the base counts \n",
    "tx_buf[0] = 0x06\n",
    "tx_buf[1] = 0x00\n",
    "iic.send(0x40,tx_buf,2,0)\n",
    "tx_buf[0] = 0x07\n",
    "tx_buf[1] = 0x00\n",
    "iic.send(0x40,tx_buf,2,0)\n",
    "\n",
    "tx_buf[0] = 0x0a\n",
    "tx_buf[1] = 0x00\n",
    "iic.send(0x40,tx_buf,2,0)#low\n",
    "tx_buf[0] = 0x0b\n",
    "tx_buf[1] = 0x00\n",
    "iic.send(0x40,tx_buf,2,0)#upper\n",
    "\n",
    "tx_buf[0] = 0x0e\n",
    "tx_buf[1] = 0x00\n",
    "iic.send(0x40,tx_buf,2,0)#low\n",
    "tx_buf[0] = 0x0f\n",
    "tx_buf[1] = 0x00\n",
    "iic.send(0x40,tx_buf,2,0)#upper\n",
    "\n",
    "tx_buf[0] = 0x12\n",
    "tx_buf[1] = 0x00\n",
    "iic.send(0x40,tx_buf,2,0)#low\n",
    "tx_buf[0] = 0x13\n",
    "tx_buf[1] = 0x00\n",
    "iic.send(0x40,tx_buf,2,0)#upper\n",
    "\n",
    "tx_buf[0] = 0x16\n",
    "tx_buf[1] = 0x00\n",
    "iic.send(0x40,tx_buf,2,0)#low\n",
    "tx_buf[0] = 0x17\n",
    "tx_buf[1] = 0x00\n",
    "iic.send(0x40,tx_buf,2,0)#upper\n",
    "\n",
    "tx_buf[0] = 0x1a\n",
    "tx_buf[1] = 0x00\n",
    "iic.send(0x40,tx_buf,2,0)#low\n",
    "tx_buf[0] = 0x1b\n",
    "tx_buf[1] = 0x00\n",
    "iic.send(0x40,tx_buf,2,0)#upper"
   ]
  },
  {
   "cell_type": "code",
   "execution_count": 15,
   "metadata": {},
   "outputs": [],
   "source": [
    "def close_grasp(b):\n",
    "    tx_buf[0] = 0x18\n",
    "    tx_buf[1] = 0x00\n",
    "    iic.send(0x40,tx_buf,2,0)#low\n",
    "    tx_buf[0] = 0x19\n",
    "    tx_buf[1] = 0x08\n",
    "    iic.send(0x40,tx_buf,2,0)#upper"
   ]
  },
  {
   "cell_type": "code",
   "execution_count": 16,
   "metadata": {},
   "outputs": [],
   "source": [
    "def close_open(b):\n",
    "    tx_buf[0] = 0x18\n",
    "    tx_buf[1] = 0x01\n",
    "    iic.send(0x40,tx_buf,2,0)#low\n",
    "    tx_buf[0] = 0x19\n",
    "    tx_buf[1] = 0x00\n",
    "    iic.send(0x40,tx_buf,2,0)#upper"
   ]
  },
  {
   "cell_type": "code",
   "execution_count": 17,
   "metadata": {},
   "outputs": [],
   "source": [
    "GraspClose = widgets.Button(description=\"Grasp Close\")\n",
    "GraspOpen = widgets.Button(description=\"Grasp Open\")"
   ]
  },
  {
   "cell_type": "code",
   "execution_count": 18,
   "metadata": {},
   "outputs": [
    {
     "data": {
      "text/plain": [
       "2"
      ]
     },
     "execution_count": 18,
     "metadata": {},
     "output_type": "execute_result"
    }
   ],
   "source": [
    "inital_pos = 369\n",
    "#forward back        \n",
    "tx_buf[0] = 0x08\n",
    "tx_buf[1] = inital_pos & 0xff\n",
    "iic.send(0x40,tx_buf,2,0)#low\n",
    "tx_buf[0] = 0x09\n",
    "tx_buf[1] = inital_pos >>8\n",
    "iic.send(0x40,tx_buf,2,0)#upper\n",
    "\n",
    "#updown        \n",
    "tx_buf[0] = 0x0c\n",
    "tx_buf[1] = inital_pos & 0xff\n",
    "iic.send(0x40,tx_buf,2,0)#low\n",
    "tx_buf[0] = 0x0d\n",
    "tx_buf[1] = inital_pos >>8\n",
    "iic.send(0x40,tx_buf,2,0)#upper\n",
    "\n",
    "#wrist tilt\n",
    "tx_buf[0] = 0x14\n",
    "tx_buf[1] = inital_pos & 0xff\n",
    "iic.send(0x40,tx_buf,2,0)#low\n",
    "tx_buf[0] = 0x15\n",
    "tx_buf[1] = inital_pos >>8\n",
    "iic.send(0x40,tx_buf,2,0)#upper"
   ]
  },
  {
   "cell_type": "code",
   "execution_count": 19,
   "metadata": {},
   "outputs": [],
   "source": [
    "%gui asyncio"
   ]
  },
  {
   "cell_type": "code",
   "execution_count": 20,
   "metadata": {},
   "outputs": [],
   "source": [
    "WristTilt = widgets.IntSlider(value=369,description=\"Wrist Tilt\", min=122,max=616,orientation='vertical')\n",
    "UpDwn = widgets.IntSlider(value=369,description=\"Up Down\",min=122,max=616,orientation='vertical')\n",
    "fwdbck = widgets.IntSlider(value=369,description=\"Forward Back\",min=122,max=616,)\n",
    "rot = widgets.IntSlider(value=369,description=\"Rotate\",min=122,max=616,)\n",
    "out = widgets.Output()"
   ]
  },
  {
   "cell_type": "code",
   "execution_count": 21,
   "metadata": {},
   "outputs": [],
   "source": [
    "def wait_for_change(widget,  value):\n",
    "    future = asyncio.Future()\n",
    "    def getvalue(change):\n",
    "        # make the new value available\n",
    "        future.set_result(change.new)\n",
    "        widget.unobserve(getvalue, value)\n",
    "    widget.observe(getvalue, value)\n",
    "    return future"
   ]
  },
  {
   "cell_type": "code",
   "execution_count": 22,
   "metadata": {},
   "outputs": [
    {
     "data": {
      "text/plain": [
       "<Task pending coro=<rotate() running at <ipython-input-22-aa31f3e19a7a>:1>>"
      ]
     },
     "execution_count": 22,
     "metadata": {},
     "output_type": "execute_result"
    }
   ],
   "source": [
    "async def rotate():\n",
    "        # out.append_stdout('did work ' + '\\n')\n",
    "    while True:\n",
    "        #rot\n",
    "        rot_pos = await wait_for_change(rot, 'value')\n",
    "        tx_buf[0] = 0x1c\n",
    "        tx_buf[1] = rot_pos & 0xff\n",
    "        iic.send(0x40,tx_buf,2,0)#low\n",
    "        tx_buf[0] = 0x1d\n",
    "        tx_buf[1] = rot_pos >>8\n",
    "        #out.append_stdout('async rot ' + str(rot_pos) + '\\n')\n",
    "        iic.send(0x40,tx_buf,2,0)#upper       \n",
    "asyncio.ensure_future(rotate()) "
   ]
  },
  {
   "cell_type": "code",
   "execution_count": 23,
   "metadata": {},
   "outputs": [
    {
     "data": {
      "text/plain": [
       "<Task pending coro=<fb() running at <ipython-input-23-3fcd68a6fd24>:1>>"
      ]
     },
     "execution_count": 23,
     "metadata": {},
     "output_type": "execute_result"
    }
   ],
   "source": [
    "async def fb():\n",
    "        # out.append_stdout('did work ' + '\\n')\n",
    "    while True:               \n",
    "        #fwd back\n",
    "        fb_pos = await wait_for_change(fwdbck, 'value')\n",
    "        #out.append_stdout('async forward' + str(fb_pos) + '\\n')\n",
    "        tx_buf[0] = 0x08\n",
    "        tx_buf[1] = fb_pos & 0xff\n",
    "        iic.send(0x40,tx_buf,2,0)#low\n",
    "        tx_buf[0] = 0x09\n",
    "        tx_buf[1] = fb_pos >>8\n",
    "        iic.send(0x40,tx_buf,2,0)#upper  \n",
    "asyncio.ensure_future(fb()) "
   ]
  },
  {
   "cell_type": "code",
   "execution_count": 24,
   "metadata": {},
   "outputs": [
    {
     "data": {
      "text/plain": [
       "<Task pending coro=<wrist() running at <ipython-input-24-b0f07d4f2d55>:1>>"
      ]
     },
     "execution_count": 24,
     "metadata": {},
     "output_type": "execute_result"
    }
   ],
   "source": [
    "async def wrist():\n",
    "        # out.append_stdout('did work ' + '\\n')\n",
    "    while True:               \n",
    "            \n",
    "        #wrist tilt\n",
    "        Wrist_tilt = await wait_for_change(WristTilt, 'value')\n",
    "        #out.append_stdout('async wrist' + str(Wrist_tilt) + '\\n')\n",
    "        tx_buf[0] = 0x14\n",
    "        tx_buf[1] = Wrist_tilt & 0xff\n",
    "        iic.send(0x40,tx_buf,2,0)#low\n",
    "        tx_buf[0] = 0x15\n",
    "        tx_buf[1] = Wrist_tilt >>8\n",
    "        iic.send(0x40,tx_buf,2,0)#upper\n",
    "asyncio.ensure_future(wrist()) "
   ]
  },
  {
   "cell_type": "code",
   "execution_count": 25,
   "metadata": {},
   "outputs": [
    {
     "data": {
      "text/plain": [
       "<Task pending coro=<updown() running at <ipython-input-25-19cf9c1679c7>:1>>"
      ]
     },
     "execution_count": 25,
     "metadata": {},
     "output_type": "execute_result"
    }
   ],
   "source": [
    "async def updown():\n",
    "    while True:               \n",
    "        \n",
    "        #updown\n",
    "        UpDwn_pos = await wait_for_change(UpDwn, 'value')\n",
    "        #out.append_stdout('async updown' + str(UpDwn_pos) + '\\n')\n",
    "        tx_buf[0] = 0x0c\n",
    "        tx_buf[1] = UpDwn_pos & 0xff\n",
    "        iic.send(0x40,tx_buf,2,0)#low\n",
    "        tx_buf[0] = 0x0d\n",
    "        tx_buf[1] = UpDwn_pos >>8\n",
    "        iic.send(0x40,tx_buf,2,0)#upper\n",
    "asyncio.ensure_future(updown()) "
   ]
  },
  {
   "cell_type": "code",
   "execution_count": 43,
   "metadata": {},
   "outputs": [
    {
     "data": {
      "application/vnd.jupyter.widget-view+json": {
       "model_id": "f3c115cb97f843fbaee8c8b422f31bc8",
       "version_major": 2,
       "version_minor": 0
      },
      "text/plain": [
       "Button(description='Grasp Close', style=ButtonStyle())"
      ]
     },
     "metadata": {},
     "output_type": "display_data"
    },
    {
     "data": {
      "application/vnd.jupyter.widget-view+json": {
       "model_id": "112f4c645fab48bdbb7f3312e580f311",
       "version_major": 2,
       "version_minor": 0
      },
      "text/plain": [
       "Button(description='Grasp Open', style=ButtonStyle())"
      ]
     },
     "metadata": {},
     "output_type": "display_data"
    }
   ],
   "source": [
    "#display(out)\n",
    "#display(WristTilt)\n",
    "#display(UpDwn)\n",
    "#display(fwdbck)\n",
    "#display(rot)\n",
    "\n"
   ]
  },
  {
   "cell_type": "code",
   "execution_count": 26,
   "metadata": {},
   "outputs": [],
   "source": [
    "from ipywidgets import Layout, HBox, VBox, Label"
   ]
  },
  {
   "cell_type": "code",
   "execution_count": 27,
   "metadata": {},
   "outputs": [
    {
     "data": {
      "application/vnd.jupyter.widget-view+json": {
       "model_id": "1f3cdbadbe944bb8848e17b31e6be541",
       "version_major": 2,
       "version_minor": 0
      },
      "text/plain": [
       "HBox(children=(IntSlider(value=369, description='Up Down', max=616, min=122, orientation='vertical'), IntSlide…"
      ]
     },
     "metadata": {},
     "output_type": "display_data"
    }
   ],
   "source": [
    "#left_box = VBox([fwdbck,rot])\n",
    "#right_box = VBox([WristTilt,UpDwn ])\n",
    "HBox([UpDwn,WristTilt,rot,fwdbck])\n"
   ]
  },
  {
   "cell_type": "code",
   "execution_count": 28,
   "metadata": {},
   "outputs": [
    {
     "data": {
      "application/vnd.jupyter.widget-view+json": {
       "model_id": "beee5ffc3dd441e8a2b359ae1eef82f8",
       "version_major": 2,
       "version_minor": 0
      },
      "text/plain": [
       "Button(description='Grasp Close', style=ButtonStyle())"
      ]
     },
     "metadata": {},
     "output_type": "display_data"
    },
    {
     "data": {
      "application/vnd.jupyter.widget-view+json": {
       "model_id": "e96f1992c93040c48af40dfbf8cdcf88",
       "version_major": 2,
       "version_minor": 0
      },
      "text/plain": [
       "Button(description='Grasp Open', style=ButtonStyle())"
      ]
     },
     "metadata": {},
     "output_type": "display_data"
    }
   ],
   "source": [
    "display(GraspClose)\n",
    "display(GraspOpen)\n",
    "GraspClose.on_click(close_grasp)\n",
    "GraspOpen.on_click(close_open)"
   ]
  },
  {
   "cell_type": "code",
   "execution_count": null,
   "metadata": {},
   "outputs": [],
   "source": []
  }
 ],
 "metadata": {
  "kernelspec": {
   "display_name": "Python 3",
   "language": "python",
   "name": "python3"
  },
  "language_info": {
   "codemirror_mode": {
    "name": "ipython",
    "version": 3
   },
   "file_extension": ".py",
   "mimetype": "text/x-python",
   "name": "python",
   "nbconvert_exporter": "python",
   "pygments_lexer": "ipython3",
   "version": "3.6.5"
  }
 },
 "nbformat": 4,
 "nbformat_minor": 4
}
